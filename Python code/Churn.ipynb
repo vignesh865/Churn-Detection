{
 "cells": [
  {
   "cell_type": "code",
   "execution_count": 189,
   "metadata": {},
   "outputs": [],
   "source": [
    "import os\n",
    "import pandas as pd\n",
    "import numpy as np\n",
    "from fancyimpute import KNN\n",
    "import seaborn as sns\n",
    "from sklearn.metrics import confusion_matrix\n",
    "from scipy.stats import chi2_contingency\n",
    "import matplotlib.pyplot as plt\n",
    "from sklearn import tree\n",
    "from sklearn.metrics import accuracy_score\n",
    "import statsmodels.api as sm"
   ]
  },
  {
   "cell_type": "code",
   "execution_count": 190,
   "metadata": {},
   "outputs": [],
   "source": [
    "os.chdir(\"G:/ml/edwiser/churn\")"
   ]
  },
  {
   "cell_type": "code",
   "execution_count": 191,
   "metadata": {},
   "outputs": [],
   "source": [
    "train = pd.read_csv(\"Train_data.csv\")\n",
    "test = pd.read_csv(\"Test_data.csv\")"
   ]
  },
  {
   "cell_type": "markdown",
   "metadata": {},
   "source": [
    "## Basic Exploration"
   ]
  },
  {
   "cell_type": "code",
   "execution_count": 192,
   "metadata": {},
   "outputs": [
    {
     "data": {
      "text/html": [
       "<div>\n",
       "<style scoped>\n",
       "    .dataframe tbody tr th:only-of-type {\n",
       "        vertical-align: middle;\n",
       "    }\n",
       "\n",
       "    .dataframe tbody tr th {\n",
       "        vertical-align: top;\n",
       "    }\n",
       "\n",
       "    .dataframe thead th {\n",
       "        text-align: right;\n",
       "    }\n",
       "</style>\n",
       "<table border=\"1\" class=\"dataframe\">\n",
       "  <thead>\n",
       "    <tr style=\"text-align: right;\">\n",
       "      <th></th>\n",
       "      <th>account length</th>\n",
       "      <th>area code</th>\n",
       "      <th>number vmail messages</th>\n",
       "      <th>total day minutes</th>\n",
       "      <th>total day calls</th>\n",
       "      <th>total day charge</th>\n",
       "      <th>total eve minutes</th>\n",
       "      <th>total eve calls</th>\n",
       "      <th>total eve charge</th>\n",
       "      <th>total night minutes</th>\n",
       "      <th>total night calls</th>\n",
       "      <th>total night charge</th>\n",
       "      <th>total intl minutes</th>\n",
       "      <th>total intl calls</th>\n",
       "      <th>total intl charge</th>\n",
       "      <th>number customer service calls</th>\n",
       "    </tr>\n",
       "  </thead>\n",
       "  <tbody>\n",
       "    <tr>\n",
       "      <th>count</th>\n",
       "      <td>3333.000000</td>\n",
       "      <td>3333.000000</td>\n",
       "      <td>3333.000000</td>\n",
       "      <td>3333.000000</td>\n",
       "      <td>3333.000000</td>\n",
       "      <td>3333.000000</td>\n",
       "      <td>3333.000000</td>\n",
       "      <td>3333.000000</td>\n",
       "      <td>3333.000000</td>\n",
       "      <td>3333.000000</td>\n",
       "      <td>3333.000000</td>\n",
       "      <td>3333.000000</td>\n",
       "      <td>3333.000000</td>\n",
       "      <td>3333.000000</td>\n",
       "      <td>3333.000000</td>\n",
       "      <td>3333.000000</td>\n",
       "    </tr>\n",
       "    <tr>\n",
       "      <th>mean</th>\n",
       "      <td>101.064806</td>\n",
       "      <td>437.182418</td>\n",
       "      <td>8.099010</td>\n",
       "      <td>179.775098</td>\n",
       "      <td>100.435644</td>\n",
       "      <td>30.562307</td>\n",
       "      <td>200.980348</td>\n",
       "      <td>100.114311</td>\n",
       "      <td>17.083540</td>\n",
       "      <td>200.872037</td>\n",
       "      <td>100.107711</td>\n",
       "      <td>9.039325</td>\n",
       "      <td>10.237294</td>\n",
       "      <td>4.479448</td>\n",
       "      <td>2.764581</td>\n",
       "      <td>1.562856</td>\n",
       "    </tr>\n",
       "    <tr>\n",
       "      <th>std</th>\n",
       "      <td>39.822106</td>\n",
       "      <td>42.371290</td>\n",
       "      <td>13.688365</td>\n",
       "      <td>54.467389</td>\n",
       "      <td>20.069084</td>\n",
       "      <td>9.259435</td>\n",
       "      <td>50.713844</td>\n",
       "      <td>19.922625</td>\n",
       "      <td>4.310668</td>\n",
       "      <td>50.573847</td>\n",
       "      <td>19.568609</td>\n",
       "      <td>2.275873</td>\n",
       "      <td>2.791840</td>\n",
       "      <td>2.461214</td>\n",
       "      <td>0.753773</td>\n",
       "      <td>1.315491</td>\n",
       "    </tr>\n",
       "    <tr>\n",
       "      <th>min</th>\n",
       "      <td>1.000000</td>\n",
       "      <td>408.000000</td>\n",
       "      <td>0.000000</td>\n",
       "      <td>0.000000</td>\n",
       "      <td>0.000000</td>\n",
       "      <td>0.000000</td>\n",
       "      <td>0.000000</td>\n",
       "      <td>0.000000</td>\n",
       "      <td>0.000000</td>\n",
       "      <td>23.200000</td>\n",
       "      <td>33.000000</td>\n",
       "      <td>1.040000</td>\n",
       "      <td>0.000000</td>\n",
       "      <td>0.000000</td>\n",
       "      <td>0.000000</td>\n",
       "      <td>0.000000</td>\n",
       "    </tr>\n",
       "    <tr>\n",
       "      <th>25%</th>\n",
       "      <td>74.000000</td>\n",
       "      <td>408.000000</td>\n",
       "      <td>0.000000</td>\n",
       "      <td>143.700000</td>\n",
       "      <td>87.000000</td>\n",
       "      <td>24.430000</td>\n",
       "      <td>166.600000</td>\n",
       "      <td>87.000000</td>\n",
       "      <td>14.160000</td>\n",
       "      <td>167.000000</td>\n",
       "      <td>87.000000</td>\n",
       "      <td>7.520000</td>\n",
       "      <td>8.500000</td>\n",
       "      <td>3.000000</td>\n",
       "      <td>2.300000</td>\n",
       "      <td>1.000000</td>\n",
       "    </tr>\n",
       "    <tr>\n",
       "      <th>50%</th>\n",
       "      <td>101.000000</td>\n",
       "      <td>415.000000</td>\n",
       "      <td>0.000000</td>\n",
       "      <td>179.400000</td>\n",
       "      <td>101.000000</td>\n",
       "      <td>30.500000</td>\n",
       "      <td>201.400000</td>\n",
       "      <td>100.000000</td>\n",
       "      <td>17.120000</td>\n",
       "      <td>201.200000</td>\n",
       "      <td>100.000000</td>\n",
       "      <td>9.050000</td>\n",
       "      <td>10.300000</td>\n",
       "      <td>4.000000</td>\n",
       "      <td>2.780000</td>\n",
       "      <td>1.000000</td>\n",
       "    </tr>\n",
       "    <tr>\n",
       "      <th>75%</th>\n",
       "      <td>127.000000</td>\n",
       "      <td>510.000000</td>\n",
       "      <td>20.000000</td>\n",
       "      <td>216.400000</td>\n",
       "      <td>114.000000</td>\n",
       "      <td>36.790000</td>\n",
       "      <td>235.300000</td>\n",
       "      <td>114.000000</td>\n",
       "      <td>20.000000</td>\n",
       "      <td>235.300000</td>\n",
       "      <td>113.000000</td>\n",
       "      <td>10.590000</td>\n",
       "      <td>12.100000</td>\n",
       "      <td>6.000000</td>\n",
       "      <td>3.270000</td>\n",
       "      <td>2.000000</td>\n",
       "    </tr>\n",
       "    <tr>\n",
       "      <th>max</th>\n",
       "      <td>243.000000</td>\n",
       "      <td>510.000000</td>\n",
       "      <td>51.000000</td>\n",
       "      <td>350.800000</td>\n",
       "      <td>165.000000</td>\n",
       "      <td>59.640000</td>\n",
       "      <td>363.700000</td>\n",
       "      <td>170.000000</td>\n",
       "      <td>30.910000</td>\n",
       "      <td>395.000000</td>\n",
       "      <td>175.000000</td>\n",
       "      <td>17.770000</td>\n",
       "      <td>20.000000</td>\n",
       "      <td>20.000000</td>\n",
       "      <td>5.400000</td>\n",
       "      <td>9.000000</td>\n",
       "    </tr>\n",
       "  </tbody>\n",
       "</table>\n",
       "</div>"
      ],
      "text/plain": [
       "       account length    area code  number vmail messages  total day minutes  \\\n",
       "count     3333.000000  3333.000000            3333.000000        3333.000000   \n",
       "mean       101.064806   437.182418               8.099010         179.775098   \n",
       "std         39.822106    42.371290              13.688365          54.467389   \n",
       "min          1.000000   408.000000               0.000000           0.000000   \n",
       "25%         74.000000   408.000000               0.000000         143.700000   \n",
       "50%        101.000000   415.000000               0.000000         179.400000   \n",
       "75%        127.000000   510.000000              20.000000         216.400000   \n",
       "max        243.000000   510.000000              51.000000         350.800000   \n",
       "\n",
       "       total day calls  total day charge  total eve minutes  total eve calls  \\\n",
       "count      3333.000000       3333.000000        3333.000000      3333.000000   \n",
       "mean        100.435644         30.562307         200.980348       100.114311   \n",
       "std          20.069084          9.259435          50.713844        19.922625   \n",
       "min           0.000000          0.000000           0.000000         0.000000   \n",
       "25%          87.000000         24.430000         166.600000        87.000000   \n",
       "50%         101.000000         30.500000         201.400000       100.000000   \n",
       "75%         114.000000         36.790000         235.300000       114.000000   \n",
       "max         165.000000         59.640000         363.700000       170.000000   \n",
       "\n",
       "       total eve charge  total night minutes  total night calls  \\\n",
       "count       3333.000000          3333.000000        3333.000000   \n",
       "mean          17.083540           200.872037         100.107711   \n",
       "std            4.310668            50.573847          19.568609   \n",
       "min            0.000000            23.200000          33.000000   \n",
       "25%           14.160000           167.000000          87.000000   \n",
       "50%           17.120000           201.200000         100.000000   \n",
       "75%           20.000000           235.300000         113.000000   \n",
       "max           30.910000           395.000000         175.000000   \n",
       "\n",
       "       total night charge  total intl minutes  total intl calls  \\\n",
       "count         3333.000000         3333.000000       3333.000000   \n",
       "mean             9.039325           10.237294          4.479448   \n",
       "std              2.275873            2.791840          2.461214   \n",
       "min              1.040000            0.000000          0.000000   \n",
       "25%              7.520000            8.500000          3.000000   \n",
       "50%              9.050000           10.300000          4.000000   \n",
       "75%             10.590000           12.100000          6.000000   \n",
       "max             17.770000           20.000000         20.000000   \n",
       "\n",
       "       total intl charge  number customer service calls  \n",
       "count        3333.000000                    3333.000000  \n",
       "mean            2.764581                       1.562856  \n",
       "std             0.753773                       1.315491  \n",
       "min             0.000000                       0.000000  \n",
       "25%             2.300000                       1.000000  \n",
       "50%             2.780000                       1.000000  \n",
       "75%             3.270000                       2.000000  \n",
       "max             5.400000                       9.000000  "
      ]
     },
     "execution_count": 192,
     "metadata": {},
     "output_type": "execute_result"
    }
   ],
   "source": [
    "train.describe()"
   ]
  },
  {
   "cell_type": "code",
   "execution_count": 193,
   "metadata": {},
   "outputs": [
    {
     "data": {
      "text/plain": [
       "<matplotlib.axes._subplots.AxesSubplot at 0x21914677128>"
      ]
     },
     "execution_count": 193,
     "metadata": {},
     "output_type": "execute_result"
    },
    {
     "data": {
      "image/png": "[encoded data removed]",
      "text/plain": [
       "<Figure size 432x288 with 1 Axes>"
      ]
     },
     "metadata": {},
     "output_type": "display_data"
    }
   ],
   "source": [
    "sns.countplot(train['Churn'])"
   ]
  },
  {
   "cell_type": "code",
   "execution_count": 194,
   "metadata": {},
   "outputs": [
    {
     "data": {
      "text/html": [
       "<div>\n",
       "<style scoped>\n",
       "    .dataframe tbody tr th:only-of-type {\n",
       "        vertical-align: middle;\n",
       "    }\n",
       "\n",
       "    .dataframe tbody tr th {\n",
       "        vertical-align: top;\n",
       "    }\n",
       "\n",
       "    .dataframe thead th {\n",
       "        text-align: right;\n",
       "    }\n",
       "</style>\n",
       "<table border=\"1\" class=\"dataframe\">\n",
       "  <thead>\n",
       "    <tr style=\"text-align: right;\">\n",
       "      <th>Churn</th>\n",
       "      <th>False.</th>\n",
       "      <th>True.</th>\n",
       "    </tr>\n",
       "    <tr>\n",
       "      <th>Churn</th>\n",
       "      <th></th>\n",
       "      <th></th>\n",
       "    </tr>\n",
       "  </thead>\n",
       "  <tbody>\n",
       "    <tr>\n",
       "      <th>False.</th>\n",
       "      <td>2850</td>\n",
       "      <td>0</td>\n",
       "    </tr>\n",
       "    <tr>\n",
       "      <th>True.</th>\n",
       "      <td>0</td>\n",
       "      <td>483</td>\n",
       "    </tr>\n",
       "  </tbody>\n",
       "</table>\n",
       "</div>"
      ],
      "text/plain": [
       "Churn     False.   True.\n",
       "Churn                   \n",
       " False.     2850       0\n",
       " True.         0     483"
      ]
     },
     "execution_count": 194,
     "metadata": {},
     "output_type": "execute_result"
    }
   ],
   "source": [
    "pd.crosstab(train['Churn'],train['Churn'])"
   ]
  },
  {
   "cell_type": "code",
   "execution_count": 195,
   "metadata": {},
   "outputs": [],
   "source": [
    "#Numerical columns\n",
    "numericColumns = ['account length',\n",
    " 'number vmail messages',\n",
    " 'total day minutes',\n",
    " 'total day calls',\n",
    " 'total day charge',\n",
    " 'total eve minutes',\n",
    " 'total eve calls',\n",
    " 'total eve charge',\n",
    " 'total night minutes',\n",
    " 'total night calls',\n",
    " 'total night charge',\n",
    " 'total intl minutes',\n",
    " 'total intl calls',\n",
    " 'total intl charge',\n",
    " 'number customer service calls']"
   ]
  },
  {
   "cell_type": "code",
   "execution_count": 196,
   "metadata": {},
   "outputs": [],
   "source": [
    "#categorical columns in data set will be in lis\n",
    "lis = ['state', 'area code','phone number', 'international plan', 'voice mail plan', 'Churn']"
   ]
  },
  {
   "cell_type": "code",
   "execution_count": 197,
   "metadata": {},
   "outputs": [],
   "source": [
    "#Bind your train and test data for unique changes to made.\n",
    "#Once data has been processed, then we can again split into test and train\n",
    "\n",
    "Binded = train.append(test)\n",
    "Binded = Binded.reset_index(drop = True)\n"
   ]
  },
  {
   "cell_type": "code",
   "execution_count": 198,
   "metadata": {},
   "outputs": [],
   "source": [
    "#Assigning levels to the categories\n",
    "\n",
    "\n",
    "for i in range(0,Binded.shape[1]):\n",
    "    if(Binded.iloc[:,i].dtypes==\"object\"):\n",
    "        Binded.iloc[:,i]=pd.Categorical(Binded.iloc[:,i])\n",
    "        Binded.iloc[:,i]=Binded.iloc[:,i].cat.codes\n",
    "        Binded.iloc[:,i]= Binded.iloc[:,i].astype('category')\n",
    "   \n"
   ]
  },
  {
   "cell_type": "code",
   "execution_count": 199,
   "metadata": {},
   "outputs": [],
   "source": [
    "#Changing area code into categorical variable\n",
    "Binded['area code']=pd.Categorical(Binded['area code'])\n",
    "Binded['area code']=Binded['area code'].cat.codes\n",
    "Binded['area code']=  Binded.iloc[:,2].astype('category')\n",
    "Binded['phone number']=pd.Categorical(Binded['phone number'])\n",
    "Binded['phone number']=Binded['phone number'].cat.codes\n",
    "Binded['phone number']= Binded['phone number'].astype('category')"
   ]
  },
  {
   "cell_type": "code",
   "execution_count": 200,
   "metadata": {},
   "outputs": [
    {
     "name": "stdout",
     "output_type": "stream",
     "text": [
      "(3333, 21)\n",
      "(1667, 21)\n"
     ]
    }
   ],
   "source": [
    "train = Binded.iloc[0:3333,:]\n",
    "test = Binded.iloc[3333:5000,:]\n",
    "\n",
    "print(train.shape)\n",
    "print(test.shape)\n",
    "\n"
   ]
  },
  {
   "cell_type": "markdown",
   "metadata": {},
   "source": [
    "## Missing Value analysis"
   ]
  },
  {
   "cell_type": "code",
   "execution_count": 201,
   "metadata": {},
   "outputs": [
    {
     "data": {
      "text/html": [
       "<div>\n",
       "<style scoped>\n",
       "    .dataframe tbody tr th:only-of-type {\n",
       "        vertical-align: middle;\n",
       "    }\n",
       "\n",
       "    .dataframe tbody tr th {\n",
       "        vertical-align: top;\n",
       "    }\n",
       "\n",
       "    .dataframe thead th {\n",
       "        text-align: right;\n",
       "    }\n",
       "</style>\n",
       "<table border=\"1\" class=\"dataframe\">\n",
       "  <thead>\n",
       "    <tr style=\"text-align: right;\">\n",
       "      <th></th>\n",
       "      <th>Variables</th>\n",
       "      <th>Missing count</th>\n",
       "    </tr>\n",
       "  </thead>\n",
       "  <tbody>\n",
       "    <tr>\n",
       "      <th>0</th>\n",
       "      <td>state</td>\n",
       "      <td>0</td>\n",
       "    </tr>\n",
       "    <tr>\n",
       "      <th>1</th>\n",
       "      <td>account length</td>\n",
       "      <td>0</td>\n",
       "    </tr>\n",
       "    <tr>\n",
       "      <th>2</th>\n",
       "      <td>area code</td>\n",
       "      <td>0</td>\n",
       "    </tr>\n",
       "    <tr>\n",
       "      <th>3</th>\n",
       "      <td>phone number</td>\n",
       "      <td>0</td>\n",
       "    </tr>\n",
       "    <tr>\n",
       "      <th>4</th>\n",
       "      <td>international plan</td>\n",
       "      <td>0</td>\n",
       "    </tr>\n",
       "    <tr>\n",
       "      <th>5</th>\n",
       "      <td>voice mail plan</td>\n",
       "      <td>0</td>\n",
       "    </tr>\n",
       "    <tr>\n",
       "      <th>6</th>\n",
       "      <td>number vmail messages</td>\n",
       "      <td>0</td>\n",
       "    </tr>\n",
       "    <tr>\n",
       "      <th>7</th>\n",
       "      <td>total day minutes</td>\n",
       "      <td>0</td>\n",
       "    </tr>\n",
       "    <tr>\n",
       "      <th>8</th>\n",
       "      <td>total day calls</td>\n",
       "      <td>0</td>\n",
       "    </tr>\n",
       "    <tr>\n",
       "      <th>9</th>\n",
       "      <td>total day charge</td>\n",
       "      <td>0</td>\n",
       "    </tr>\n",
       "    <tr>\n",
       "      <th>10</th>\n",
       "      <td>total eve minutes</td>\n",
       "      <td>0</td>\n",
       "    </tr>\n",
       "    <tr>\n",
       "      <th>11</th>\n",
       "      <td>total eve calls</td>\n",
       "      <td>0</td>\n",
       "    </tr>\n",
       "    <tr>\n",
       "      <th>12</th>\n",
       "      <td>total eve charge</td>\n",
       "      <td>0</td>\n",
       "    </tr>\n",
       "    <tr>\n",
       "      <th>13</th>\n",
       "      <td>total night minutes</td>\n",
       "      <td>0</td>\n",
       "    </tr>\n",
       "    <tr>\n",
       "      <th>14</th>\n",
       "      <td>total night calls</td>\n",
       "      <td>0</td>\n",
       "    </tr>\n",
       "    <tr>\n",
       "      <th>15</th>\n",
       "      <td>total night charge</td>\n",
       "      <td>0</td>\n",
       "    </tr>\n",
       "    <tr>\n",
       "      <th>16</th>\n",
       "      <td>total intl minutes</td>\n",
       "      <td>0</td>\n",
       "    </tr>\n",
       "    <tr>\n",
       "      <th>17</th>\n",
       "      <td>total intl calls</td>\n",
       "      <td>0</td>\n",
       "    </tr>\n",
       "    <tr>\n",
       "      <th>18</th>\n",
       "      <td>total intl charge</td>\n",
       "      <td>0</td>\n",
       "    </tr>\n",
       "    <tr>\n",
       "      <th>19</th>\n",
       "      <td>number customer service calls</td>\n",
       "      <td>0</td>\n",
       "    </tr>\n",
       "    <tr>\n",
       "      <th>20</th>\n",
       "      <td>Churn</td>\n",
       "      <td>0</td>\n",
       "    </tr>\n",
       "  </tbody>\n",
       "</table>\n",
       "</div>"
      ],
      "text/plain": [
       "                        Variables  Missing count\n",
       "0                           state              0\n",
       "1                  account length              0\n",
       "2                       area code              0\n",
       "3                    phone number              0\n",
       "4              international plan              0\n",
       "5                 voice mail plan              0\n",
       "6           number vmail messages              0\n",
       "7               total day minutes              0\n",
       "8                 total day calls              0\n",
       "9                total day charge              0\n",
       "10              total eve minutes              0\n",
       "11                total eve calls              0\n",
       "12               total eve charge              0\n",
       "13            total night minutes              0\n",
       "14              total night calls              0\n",
       "15             total night charge              0\n",
       "16             total intl minutes              0\n",
       "17               total intl calls              0\n",
       "18              total intl charge              0\n",
       "19  number customer service calls              0\n",
       "20                          Churn              0"
      ]
     },
     "execution_count": 201,
     "metadata": {},
     "output_type": "execute_result"
    }
   ],
   "source": [
    "#Missing value analysis\n",
    "\n",
    "missingValues = pd.DataFrame(train.isnull().sum())\n",
    "missingValues = missingValues.reset_index()\n",
    "missingValues = missingValues.rename(columns = {\"index\": \"Variables\", 0:\"Missing count\"})\n",
    "missingValues"
   ]
  },
  {
   "cell_type": "markdown",
   "metadata": {},
   "source": [
    "No missing values. This training data has been completely filled"
   ]
  },
  {
   "cell_type": "markdown",
   "metadata": {},
   "source": [
    "## Outlier analysis"
   ]
  },
  {
   "cell_type": "code",
   "execution_count": 202,
   "metadata": {},
   "outputs": [
    {
     "data": {
      "image/png": "[encoded data removed]",
      "text/plain": [
       "<Figure size 1440x1440 with 21 Axes>"
      ]
     },
     "metadata": {},
     "output_type": "display_data"
    }
   ],
   "source": [
    "# %matplotlib.inline\n",
    "fig, ax = plt.subplots(nrows = 7, ncols=3)\n",
    "fig.set_size_inches(20,20)\n",
    "indexCount=0\n",
    "for col in range(3):\n",
    "    for row in range(7):\n",
    "        ax[row,col].boxplot(train.iloc[:,indexCount])\n",
    "        indexCount =indexCount+1   \n",
    "\n",
    "plt.show()"
   ]
  },
  {
   "cell_type": "code",
   "execution_count": 203,
   "metadata": {},
   "outputs": [
    {
     "name": "stderr",
     "output_type": "stream",
     "text": [
      "G:\\Anaconda\\lib\\site-packages\\pandas\\core\\indexing.py:537: SettingWithCopyWarning: \n",
      "A value is trying to be set on a copy of a slice from a DataFrame.\n",
      "Try using .loc[row_indexer,col_indexer] = value instead\n",
      "\n",
      "See the caveats in the documentation: http://pandas.pydata.org/pandas-docs/stable/indexing.html#indexing-view-versus-copy\n",
      "  self.obj[item] = s\n"
     ]
    }
   ],
   "source": [
    "#Box plot method to replace all the outlier values\n",
    "\n",
    "for i in numericColumns:\n",
    "    q75, q25 = np.percentile(train[i], [75,25])\n",
    "    iqr = q75-q25\n",
    "    \n",
    "    min = q25-iqr*1.5\n",
    "    max = q75+iqr*1.5\n",
    "    \n",
    "    #Median as replacement value\n",
    "    replacementValue=np.median(train[i])\n",
    "    \n",
    "    #Mean as replacement value\n",
    "    #replacementValue=np.mean(train[i])\n",
    "    \n",
    "    train.loc[ train[i]<min,i]=replacementValue\n",
    "    train.loc[ train[i]>max,i]=replacementValue\n",
    "    "
   ]
  },
  {
   "cell_type": "code",
   "execution_count": null,
   "metadata": {},
   "outputs": [],
   "source": [
    "#KN imputation method for replacing na values\n",
    "Binded=pd.DataFrame(KNN(k=3).fit_transform(Binded),columns=Binded.columns)"
   ]
  },
  {
   "cell_type": "markdown",
   "metadata": {},
   "source": [
    "## Feature selection"
   ]
  },
  {
   "cell_type": "code",
   "execution_count": 204,
   "metadata": {},
   "outputs": [],
   "source": [
    "import matplotlib.pyplot as plt\n",
    "import seaborn as sns"
   ]
  },
  {
   "cell_type": "code",
   "execution_count": 205,
   "metadata": {},
   "outputs": [
    {
     "data": {
      "text/plain": [
       "<matplotlib.axes._subplots.AxesSubplot at 0x21913f4ddd8>"
      ]
     },
     "execution_count": 205,
     "metadata": {},
     "output_type": "execute_result"
    },
    {
     "data": {
      "image/png": "[encoded data removed]",
      "text/plain": [
       "<Figure size 720x576 with 2 Axes>"
      ]
     },
     "metadata": {},
     "output_type": "display_data"
    }
   ],
   "source": [
    "f, ax = plt.subplots(figsize=(10,8))\n",
    "corr = train.corr()\n",
    "\n",
    "\n",
    "sns.heatmap(corr,mask=np.zeros_like(corr,dtype=np.bool),cmap=sns.diverging_palette(220,10,as_cmap=True))"
   ]
  },
  {
   "cell_type": "markdown",
   "metadata": {},
   "source": [
    "#### Correlated features are removed from test and train dataset using below code"
   ]
  },
  {
   "cell_type": "code",
   "execution_count": 206,
   "metadata": {},
   "outputs": [],
   "source": [
    "#To remove given list in list\n",
    "def removeList(elements, list):\n",
    "    for x in elements:\n",
    "        list.remove(x)\n"
   ]
  },
  {
   "cell_type": "code",
   "execution_count": 207,
   "metadata": {},
   "outputs": [
    {
     "name": "stderr",
     "output_type": "stream",
     "text": [
      "G:\\Anaconda\\lib\\site-packages\\ipykernel_launcher.py:3: SettingWithCopyWarning: \n",
      "A value is trying to be set on a copy of a slice from a DataFrame\n",
      "\n",
      "See the caveats in the documentation: http://pandas.pydata.org/pandas-docs/stable/indexing.html#indexing-view-versus-copy\n",
      "  This is separate from the ipykernel package so we can avoid doing imports until\n",
      "G:\\Anaconda\\lib\\site-packages\\ipykernel_launcher.py:4: SettingWithCopyWarning: \n",
      "A value is trying to be set on a copy of a slice from a DataFrame\n",
      "\n",
      "See the caveats in the documentation: http://pandas.pydata.org/pandas-docs/stable/indexing.html#indexing-view-versus-copy\n",
      "  after removing the cwd from sys.path.\n"
     ]
    }
   ],
   "source": [
    "#Drop correlated variables\n",
    "Binded.drop(['total day minutes', 'total eve minutes', 'total night minutes','total intl minutes'],1, inplace = True)\n",
    "train.drop(['total day minutes', 'total eve minutes', 'total night minutes','total intl minutes'],1, inplace = True)\n",
    "test.drop(['total day minutes', 'total eve minutes', 'total night minutes','total intl minutes'],1, inplace = True)\n",
    "removeList(['total day minutes', 'total eve minutes', 'total night minutes','total intl minutes'], numericColumns)"
   ]
  },
  {
   "cell_type": "code",
   "execution_count": 208,
   "metadata": {},
   "outputs": [
    {
     "name": "stdout",
     "output_type": "stream",
     "text": [
      "state\n",
      "0.002296221552011188\n",
      "area code\n",
      "0.9150556960243712\n",
      "international plan\n",
      "2.4931077033159556e-50\n",
      "voice mail plan\n",
      "5.15063965903898e-09\n"
     ]
    }
   ],
   "source": [
    "removeList(['phone number', 'Churn'], lis)\n",
    "for i in lis:\n",
    "    print(i)\n",
    "    ch2, p, dof,ex = chi2_contingency(pd.crosstab(train['Churn'],train[i]))\n",
    "    print(p)"
   ]
  },
  {
   "cell_type": "code",
   "execution_count": 209,
   "metadata": {},
   "outputs": [
    {
     "name": "stderr",
     "output_type": "stream",
     "text": [
      "G:\\Anaconda\\lib\\site-packages\\ipykernel_launcher.py:3: SettingWithCopyWarning: \n",
      "A value is trying to be set on a copy of a slice from a DataFrame\n",
      "\n",
      "See the caveats in the documentation: http://pandas.pydata.org/pandas-docs/stable/indexing.html#indexing-view-versus-copy\n",
      "  This is separate from the ipykernel package so we can avoid doing imports until\n",
      "G:\\Anaconda\\lib\\site-packages\\ipykernel_launcher.py:4: SettingWithCopyWarning: \n",
      "A value is trying to be set on a copy of a slice from a DataFrame\n",
      "\n",
      "See the caveats in the documentation: http://pandas.pydata.org/pandas-docs/stable/indexing.html#indexing-view-versus-copy\n",
      "  after removing the cwd from sys.path.\n"
     ]
    }
   ],
   "source": [
    "#Drop correlated variables\n",
    "Binded.drop(['phone number','area code'],1,inplace=True)\n",
    "train.drop(['phone number','area code'],1,inplace=True)\n",
    "test.drop(['phone number','area code'],1,inplace=True)\n",
    "removeList(['area code'], lis)"
   ]
  },
  {
   "cell_type": "markdown",
   "metadata": {},
   "source": [
    "## Feature Normalization"
   ]
  },
  {
   "cell_type": "code",
   "execution_count": 210,
   "metadata": {},
   "outputs": [
    {
     "name": "stderr",
     "output_type": "stream",
     "text": [
      "G:\\Anaconda\\lib\\site-packages\\ipykernel_launcher.py:3: SettingWithCopyWarning: \n",
      "A value is trying to be set on a copy of a slice from a DataFrame.\n",
      "Try using .loc[row_indexer,col_indexer] = value instead\n",
      "\n",
      "See the caveats in the documentation: http://pandas.pydata.org/pandas-docs/stable/indexing.html#indexing-view-versus-copy\n",
      "  This is separate from the ipykernel package so we can avoid doing imports until\n",
      "G:\\Anaconda\\lib\\site-packages\\ipykernel_launcher.py:4: SettingWithCopyWarning: \n",
      "A value is trying to be set on a copy of a slice from a DataFrame.\n",
      "Try using .loc[row_indexer,col_indexer] = value instead\n",
      "\n",
      "See the caveats in the documentation: http://pandas.pydata.org/pandas-docs/stable/indexing.html#indexing-view-versus-copy\n",
      "  after removing the cwd from sys.path.\n"
     ]
    }
   ],
   "source": [
    "#Normalization\n",
    "for i in numericColumns:\n",
    "    train[i] = (train[i]-np.mean(train[i]))/train[i].std()\n",
    "    test[i] = (test[i] - np.mean(test[i]))/test[i].std()"
   ]
  },
  {
   "cell_type": "code",
   "execution_count": 175,
   "metadata": {},
   "outputs": [
    {
     "name": "stderr",
     "output_type": "stream",
     "text": [
      "G:\\Anaconda\\lib\\site-packages\\ipykernel_launcher.py:3: SettingWithCopyWarning: \n",
      "A value is trying to be set on a copy of a slice from a DataFrame.\n",
      "Try using .loc[row_indexer,col_indexer] = value instead\n",
      "\n",
      "See the caveats in the documentation: http://pandas.pydata.org/pandas-docs/stable/indexing.html#indexing-view-versus-copy\n",
      "  This is separate from the ipykernel package so we can avoid doing imports until\n",
      "G:\\Anaconda\\lib\\site-packages\\ipykernel_launcher.py:4: SettingWithCopyWarning: \n",
      "A value is trying to be set on a copy of a slice from a DataFrame.\n",
      "Try using .loc[row_indexer,col_indexer] = value instead\n",
      "\n",
      "See the caveats in the documentation: http://pandas.pydata.org/pandas-docs/stable/indexing.html#indexing-view-versus-copy\n",
      "  after removing the cwd from sys.path.\n"
     ]
    }
   ],
   "source": [
    "#Standardization\n",
    "for i in numericColumns:\n",
    "    train[i] = (train[i]-train[i].min())/(train[i].max() - train[i].min())\n",
    "    test[i] = (test[i]-test[i].min())/(test[i].max() - test[i].min())"
   ]
  },
  {
   "cell_type": "code",
   "execution_count": 176,
   "metadata": {},
   "outputs": [
    {
     "data": {
      "text/html": [
       "<div>\n",
       "<style scoped>\n",
       "    .dataframe tbody tr th:only-of-type {\n",
       "        vertical-align: middle;\n",
       "    }\n",
       "\n",
       "    .dataframe tbody tr th {\n",
       "        vertical-align: top;\n",
       "    }\n",
       "\n",
       "    .dataframe thead th {\n",
       "        text-align: right;\n",
       "    }\n",
       "</style>\n",
       "<table border=\"1\" class=\"dataframe\">\n",
       "  <thead>\n",
       "    <tr style=\"text-align: right;\">\n",
       "      <th></th>\n",
       "      <th>state</th>\n",
       "      <th>account length</th>\n",
       "      <th>international plan</th>\n",
       "      <th>voice mail plan</th>\n",
       "      <th>number vmail messages</th>\n",
       "      <th>total day calls</th>\n",
       "      <th>total day charge</th>\n",
       "      <th>total eve calls</th>\n",
       "      <th>total eve charge</th>\n",
       "      <th>total night calls</th>\n",
       "      <th>total night charge</th>\n",
       "      <th>total intl calls</th>\n",
       "      <th>total intl charge</th>\n",
       "      <th>number customer service calls</th>\n",
       "      <th>Churn</th>\n",
       "    </tr>\n",
       "  </thead>\n",
       "  <tbody>\n",
       "    <tr>\n",
       "      <th>3333</th>\n",
       "      <td>11</td>\n",
       "      <td>0.421941</td>\n",
       "      <td>0</td>\n",
       "      <td>0</td>\n",
       "      <td>0.000000</td>\n",
       "      <td>0.706349</td>\n",
       "      <td>0.186392</td>\n",
       "      <td>0.267176</td>\n",
       "      <td>0.562500</td>\n",
       "      <td>0.429412</td>\n",
       "      <td>0.618521</td>\n",
       "      <td>0.157895</td>\n",
       "      <td>0.537594</td>\n",
       "      <td>0.428571</td>\n",
       "      <td>0</td>\n",
       "    </tr>\n",
       "    <tr>\n",
       "      <th>3334</th>\n",
       "      <td>26</td>\n",
       "      <td>0.573840</td>\n",
       "      <td>0</td>\n",
       "      <td>0</td>\n",
       "      <td>0.000000</td>\n",
       "      <td>0.412698</td>\n",
       "      <td>0.629093</td>\n",
       "      <td>0.770992</td>\n",
       "      <td>0.660265</td>\n",
       "      <td>0.476471</td>\n",
       "      <td>0.246942</td>\n",
       "      <td>0.368421</td>\n",
       "      <td>0.483083</td>\n",
       "      <td>0.000000</td>\n",
       "      <td>0</td>\n",
       "    </tr>\n",
       "    <tr>\n",
       "      <th>3335</th>\n",
       "      <td>35</td>\n",
       "      <td>0.430380</td>\n",
       "      <td>0</td>\n",
       "      <td>1</td>\n",
       "      <td>0.557692</td>\n",
       "      <td>0.484127</td>\n",
       "      <td>0.835266</td>\n",
       "      <td>0.511450</td>\n",
       "      <td>0.637919</td>\n",
       "      <td>0.747059</td>\n",
       "      <td>0.786838</td>\n",
       "      <td>0.315789</td>\n",
       "      <td>0.695489</td>\n",
       "      <td>0.142857</td>\n",
       "      <td>0</td>\n",
       "    </tr>\n",
       "    <tr>\n",
       "      <th>3336</th>\n",
       "      <td>32</td>\n",
       "      <td>0.413502</td>\n",
       "      <td>0</td>\n",
       "      <td>0</td>\n",
       "      <td>0.000000</td>\n",
       "      <td>0.706349</td>\n",
       "      <td>0.609482</td>\n",
       "      <td>0.381679</td>\n",
       "      <td>0.308659</td>\n",
       "      <td>0.482353</td>\n",
       "      <td>0.578334</td>\n",
       "      <td>0.105263</td>\n",
       "      <td>0.796992</td>\n",
       "      <td>0.142857</td>\n",
       "      <td>0</td>\n",
       "    </tr>\n",
       "    <tr>\n",
       "      <th>3337</th>\n",
       "      <td>40</td>\n",
       "      <td>0.451477</td>\n",
       "      <td>0</td>\n",
       "      <td>0</td>\n",
       "      <td>0.000000</td>\n",
       "      <td>0.349206</td>\n",
       "      <td>0.553206</td>\n",
       "      <td>0.480916</td>\n",
       "      <td>0.301676</td>\n",
       "      <td>0.629412</td>\n",
       "      <td>0.535818</td>\n",
       "      <td>0.210526</td>\n",
       "      <td>0.390977</td>\n",
       "      <td>0.285714</td>\n",
       "      <td>0</td>\n",
       "    </tr>\n",
       "    <tr>\n",
       "      <th>3338</th>\n",
       "      <td>12</td>\n",
       "      <td>0.489451</td>\n",
       "      <td>0</td>\n",
       "      <td>0</td>\n",
       "      <td>0.000000</td>\n",
       "      <td>0.404762</td>\n",
       "      <td>0.637619</td>\n",
       "      <td>0.229008</td>\n",
       "      <td>0.354050</td>\n",
       "      <td>0.529412</td>\n",
       "      <td>0.584741</td>\n",
       "      <td>0.263158</td>\n",
       "      <td>0.349624</td>\n",
       "      <td>0.142857</td>\n",
       "      <td>0</td>\n",
       "    </tr>\n",
       "    <tr>\n",
       "      <th>3339</th>\n",
       "      <td>28</td>\n",
       "      <td>0.261603</td>\n",
       "      <td>0</td>\n",
       "      <td>1</td>\n",
       "      <td>0.615385</td>\n",
       "      <td>0.714286</td>\n",
       "      <td>0.615450</td>\n",
       "      <td>0.664122</td>\n",
       "      <td>0.569832</td>\n",
       "      <td>0.705882</td>\n",
       "      <td>0.682003</td>\n",
       "      <td>0.157895</td>\n",
       "      <td>0.654135</td>\n",
       "      <td>0.142857</td>\n",
       "      <td>0</td>\n",
       "    </tr>\n",
       "    <tr>\n",
       "      <th>3340</th>\n",
       "      <td>18</td>\n",
       "      <td>0.392405</td>\n",
       "      <td>0</td>\n",
       "      <td>0</td>\n",
       "      <td>0.000000</td>\n",
       "      <td>0.500000</td>\n",
       "      <td>0.437585</td>\n",
       "      <td>0.564885</td>\n",
       "      <td>0.599860</td>\n",
       "      <td>0.623529</td>\n",
       "      <td>0.814793</td>\n",
       "      <td>0.315789</td>\n",
       "      <td>0.563910</td>\n",
       "      <td>0.000000</td>\n",
       "      <td>0</td>\n",
       "    </tr>\n",
       "    <tr>\n",
       "      <th>3341</th>\n",
       "      <td>24</td>\n",
       "      <td>0.578059</td>\n",
       "      <td>0</td>\n",
       "      <td>0</td>\n",
       "      <td>0.000000</td>\n",
       "      <td>0.658730</td>\n",
       "      <td>0.239256</td>\n",
       "      <td>0.061069</td>\n",
       "      <td>0.310056</td>\n",
       "      <td>0.417647</td>\n",
       "      <td>0.499126</td>\n",
       "      <td>0.210526</td>\n",
       "      <td>0.501880</td>\n",
       "      <td>0.285714</td>\n",
       "      <td>0</td>\n",
       "    </tr>\n",
       "    <tr>\n",
       "      <th>3342</th>\n",
       "      <td>43</td>\n",
       "      <td>0.535865</td>\n",
       "      <td>0</td>\n",
       "      <td>1</td>\n",
       "      <td>0.826923</td>\n",
       "      <td>0.523810</td>\n",
       "      <td>0.496419</td>\n",
       "      <td>0.389313</td>\n",
       "      <td>0.370810</td>\n",
       "      <td>0.541176</td>\n",
       "      <td>0.509027</td>\n",
       "      <td>0.052632</td>\n",
       "      <td>0.603383</td>\n",
       "      <td>0.000000</td>\n",
       "      <td>0</td>\n",
       "    </tr>\n",
       "  </tbody>\n",
       "</table>\n",
       "</div>"
      ],
      "text/plain": [
       "     state  account length international plan voice mail plan  \\\n",
       "3333    11        0.421941                  0               0   \n",
       "3334    26        0.573840                  0               0   \n",
       "3335    35        0.430380                  0               1   \n",
       "3336    32        0.413502                  0               0   \n",
       "3337    40        0.451477                  0               0   \n",
       "3338    12        0.489451                  0               0   \n",
       "3339    28        0.261603                  0               1   \n",
       "3340    18        0.392405                  0               0   \n",
       "3341    24        0.578059                  0               0   \n",
       "3342    43        0.535865                  0               1   \n",
       "\n",
       "      number vmail messages  total day calls  total day charge  \\\n",
       "3333               0.000000         0.706349          0.186392   \n",
       "3334               0.000000         0.412698          0.629093   \n",
       "3335               0.557692         0.484127          0.835266   \n",
       "3336               0.000000         0.706349          0.609482   \n",
       "3337               0.000000         0.349206          0.553206   \n",
       "3338               0.000000         0.404762          0.637619   \n",
       "3339               0.615385         0.714286          0.615450   \n",
       "3340               0.000000         0.500000          0.437585   \n",
       "3341               0.000000         0.658730          0.239256   \n",
       "3342               0.826923         0.523810          0.496419   \n",
       "\n",
       "      total eve calls  total eve charge  total night calls  \\\n",
       "3333         0.267176          0.562500           0.429412   \n",
       "3334         0.770992          0.660265           0.476471   \n",
       "3335         0.511450          0.637919           0.747059   \n",
       "3336         0.381679          0.308659           0.482353   \n",
       "3337         0.480916          0.301676           0.629412   \n",
       "3338         0.229008          0.354050           0.529412   \n",
       "3339         0.664122          0.569832           0.705882   \n",
       "3340         0.564885          0.599860           0.623529   \n",
       "3341         0.061069          0.310056           0.417647   \n",
       "3342         0.389313          0.370810           0.541176   \n",
       "\n",
       "      total night charge  total intl calls  total intl charge  \\\n",
       "3333            0.618521          0.157895           0.537594   \n",
       "3334            0.246942          0.368421           0.483083   \n",
       "3335            0.786838          0.315789           0.695489   \n",
       "3336            0.578334          0.105263           0.796992   \n",
       "3337            0.535818          0.210526           0.390977   \n",
       "3338            0.584741          0.263158           0.349624   \n",
       "3339            0.682003          0.157895           0.654135   \n",
       "3340            0.814793          0.315789           0.563910   \n",
       "3341            0.499126          0.210526           0.501880   \n",
       "3342            0.509027          0.052632           0.603383   \n",
       "\n",
       "      number customer service calls Churn  \n",
       "3333                       0.428571     0  \n",
       "3334                       0.000000     0  \n",
       "3335                       0.142857     0  \n",
       "3336                       0.142857     0  \n",
       "3337                       0.285714     0  \n",
       "3338                       0.142857     0  \n",
       "3339                       0.142857     0  \n",
       "3340                       0.000000     0  \n",
       "3341                       0.285714     0  \n",
       "3342                       0.000000     0  "
      ]
     },
     "execution_count": 176,
     "metadata": {},
     "output_type": "execute_result"
    }
   ],
   "source": [
    "test.head(10)"
   ]
  },
  {
   "cell_type": "markdown",
   "metadata": {},
   "source": [
    "## Model Selection"
   ]
  },
  {
   "cell_type": "markdown",
   "metadata": {},
   "source": [
    "## Decision Tree"
   ]
  },
  {
   "cell_type": "code",
   "execution_count": 211,
   "metadata": {},
   "outputs": [],
   "source": [
    "clf = tree.DecisionTreeClassifier(criterion='entropy').fit(train.iloc[:,0:14],pd.Categorical(train.iloc[:,14]))"
   ]
  },
  {
   "cell_type": "code",
   "execution_count": 212,
   "metadata": {},
   "outputs": [],
   "source": [
    "pred = clf.predict(test.iloc[:,0:14])"
   ]
  },
  {
   "cell_type": "code",
   "execution_count": 213,
   "metadata": {},
   "outputs": [
    {
     "data": {
      "text/plain": [
       "0.8770245950809838"
      ]
     },
     "execution_count": 213,
     "metadata": {},
     "output_type": "execute_result"
    }
   ],
   "source": [
    "accuracy_score(pd.Categorical(test.iloc[:,14]),pred)"
   ]
  },
  {
   "cell_type": "code",
   "execution_count": 214,
   "metadata": {},
   "outputs": [
    {
     "data": {
      "text/html": [
       "<div>\n",
       "<style scoped>\n",
       "    .dataframe tbody tr th:only-of-type {\n",
       "        vertical-align: middle;\n",
       "    }\n",
       "\n",
       "    .dataframe tbody tr th {\n",
       "        vertical-align: top;\n",
       "    }\n",
       "\n",
       "    .dataframe thead th {\n",
       "        text-align: right;\n",
       "    }\n",
       "</style>\n",
       "<table border=\"1\" class=\"dataframe\">\n",
       "  <thead>\n",
       "    <tr style=\"text-align: right;\">\n",
       "      <th>col_0</th>\n",
       "      <th>0</th>\n",
       "      <th>1</th>\n",
       "    </tr>\n",
       "    <tr>\n",
       "      <th>row_0</th>\n",
       "      <th></th>\n",
       "      <th></th>\n",
       "    </tr>\n",
       "  </thead>\n",
       "  <tbody>\n",
       "    <tr>\n",
       "      <th>0</th>\n",
       "      <td>1337</td>\n",
       "      <td>106</td>\n",
       "    </tr>\n",
       "    <tr>\n",
       "      <th>1</th>\n",
       "      <td>99</td>\n",
       "      <td>125</td>\n",
       "    </tr>\n",
       "  </tbody>\n",
       "</table>\n",
       "</div>"
      ],
      "text/plain": [
       "col_0     0    1\n",
       "row_0           \n",
       "0      1337  106\n",
       "1        99  125"
      ]
     },
     "execution_count": 214,
     "metadata": {},
     "output_type": "execute_result"
    }
   ],
   "source": [
    "pd.crosstab(pd.Categorical(test.iloc[:,14]),pred)"
   ]
  },
  {
   "cell_type": "markdown",
   "metadata": {},
   "source": [
    "### Accuracy = 0.86\n",
    "### FNR: 103 / 109+115 = 0.48"
   ]
  },
  {
   "cell_type": "markdown",
   "metadata": {},
   "source": [
    "## RandomForest"
   ]
  },
  {
   "cell_type": "code",
   "execution_count": 215,
   "metadata": {},
   "outputs": [],
   "source": [
    "from sklearn.ensemble import RandomForestClassifier"
   ]
  },
  {
   "cell_type": "code",
   "execution_count": 216,
   "metadata": {},
   "outputs": [],
   "source": [
    "RF = RandomForestClassifier(n_estimators=500).fit(train.iloc[:,0:14],pd.Categorical(train.iloc[:,14]))"
   ]
  },
  {
   "cell_type": "code",
   "execution_count": 217,
   "metadata": {},
   "outputs": [],
   "source": [
    "pred = RF.predict(test.iloc[:,0:14])"
   ]
  },
  {
   "cell_type": "code",
   "execution_count": 218,
   "metadata": {},
   "outputs": [
    {
     "data": {
      "text/plain": [
       "0.9292141571685663"
      ]
     },
     "execution_count": 218,
     "metadata": {},
     "output_type": "execute_result"
    }
   ],
   "source": [
    "accuracy_score(pd.Categorical(test.iloc[:,14]),pred)"
   ]
  },
  {
   "cell_type": "code",
   "execution_count": 219,
   "metadata": {},
   "outputs": [
    {
     "data": {
      "text/html": [
       "<div>\n",
       "<style scoped>\n",
       "    .dataframe tbody tr th:only-of-type {\n",
       "        vertical-align: middle;\n",
       "    }\n",
       "\n",
       "    .dataframe tbody tr th {\n",
       "        vertical-align: top;\n",
       "    }\n",
       "\n",
       "    .dataframe thead th {\n",
       "        text-align: right;\n",
       "    }\n",
       "</style>\n",
       "<table border=\"1\" class=\"dataframe\">\n",
       "  <thead>\n",
       "    <tr style=\"text-align: right;\">\n",
       "      <th>col_0</th>\n",
       "      <th>0</th>\n",
       "      <th>1</th>\n",
       "    </tr>\n",
       "    <tr>\n",
       "      <th>row_0</th>\n",
       "      <th></th>\n",
       "      <th></th>\n",
       "    </tr>\n",
       "  </thead>\n",
       "  <tbody>\n",
       "    <tr>\n",
       "      <th>0</th>\n",
       "      <td>1442</td>\n",
       "      <td>1</td>\n",
       "    </tr>\n",
       "    <tr>\n",
       "      <th>1</th>\n",
       "      <td>117</td>\n",
       "      <td>107</td>\n",
       "    </tr>\n",
       "  </tbody>\n",
       "</table>\n",
       "</div>"
      ],
      "text/plain": [
       "col_0     0    1\n",
       "row_0           \n",
       "0      1442    1\n",
       "1       117  107"
      ]
     },
     "execution_count": 219,
     "metadata": {},
     "output_type": "execute_result"
    }
   ],
   "source": [
    "pd.crosstab(pd.Categorical(test.iloc[:,14]),pred)"
   ]
  },
  {
   "cell_type": "markdown",
   "metadata": {},
   "source": [
    "### Accuracy = 0.93\n",
    "### FNR: 118 / 224 = 0.52"
   ]
  },
  {
   "cell_type": "markdown",
   "metadata": {},
   "source": [
    "## Logit regression"
   ]
  },
  {
   "cell_type": "code",
   "execution_count": 220,
   "metadata": {},
   "outputs": [],
   "source": [
    "#train_logit = pd.DataFrame(train['Churn'])\n",
    "#test_logit = pd.DataFrame(test['Churn'])\n",
    "\n",
    "Binded_logit = pd.DataFrame(Binded['Churn'])\n",
    "\n"
   ]
  },
  {
   "cell_type": "code",
   "execution_count": 221,
   "metadata": {},
   "outputs": [],
   "source": [
    "#train_logit = train_logit.join(train[numericColumns])\n",
    "#test_logit = test_logit.join(test[numericColumns])\n",
    "\n",
    "\n",
    "Binded_logit = Binded_logit.join(Binded[numericColumns])"
   ]
  },
  {
   "cell_type": "code",
   "execution_count": 222,
   "metadata": {},
   "outputs": [],
   "source": [
    "for i in lis:\n",
    "    # train_logit = train_logit.join(pd.get_dummies(train[i], prefix  = i))\n",
    "    # test_logit = test_logit.join(pd.get_dummies(test[i], prefix  = i))\n",
    "        \n",
    "    Binded_logit = Binded_logit.join(pd.get_dummies(Binded[i], prefix  = i))"
   ]
  },
  {
   "cell_type": "code",
   "execution_count": 223,
   "metadata": {},
   "outputs": [
    {
     "data": {
      "text/plain": [
       "(5000, 67)"
      ]
     },
     "execution_count": 223,
     "metadata": {},
     "output_type": "execute_result"
    }
   ],
   "source": [
    "Binded_logit.shape"
   ]
  },
  {
   "cell_type": "code",
   "execution_count": 224,
   "metadata": {},
   "outputs": [
    {
     "name": "stdout",
     "output_type": "stream",
     "text": [
      "Optimization terminated successfully.\n",
      "         Current function value: 0.310865\n",
      "         Iterations: 107\n",
      "         Function evaluations: 114\n",
      "         Gradient evaluations: 114\n"
     ]
    }
   ],
   "source": [
    "Logit_model = sm.Logit(Binded_logit.iloc[0:3333,0].astype(int), Binded_logit.iloc[0:3333, 1:67].astype(float),).fit(method = 'bfgs', maxiter = 110)"
   ]
  },
  {
   "cell_type": "code",
   "execution_count": 225,
   "metadata": {},
   "outputs": [],
   "source": [
    "pred=Logit_model.predict(Binded_logit.iloc[3333:5000,1:67])\n",
    "pred = pd.DataFrame(pred)\n",
    "pred = pred.rename(columns={0:\"pred\"})\n",
    "pred.loc[pred['pred']<0.5,:] = 0\n",
    "pred.loc[pred['pred']>=0.5,:] = 1"
   ]
  },
  {
   "cell_type": "code",
   "execution_count": 226,
   "metadata": {},
   "outputs": [
    {
     "data": {
      "text/html": [
       "<div>\n",
       "<style scoped>\n",
       "    .dataframe tbody tr th:only-of-type {\n",
       "        vertical-align: middle;\n",
       "    }\n",
       "\n",
       "    .dataframe tbody tr th {\n",
       "        vertical-align: top;\n",
       "    }\n",
       "\n",
       "    .dataframe thead th {\n",
       "        text-align: right;\n",
       "    }\n",
       "</style>\n",
       "<table border=\"1\" class=\"dataframe\">\n",
       "  <thead>\n",
       "    <tr style=\"text-align: right;\">\n",
       "      <th>pred</th>\n",
       "      <th>0.0</th>\n",
       "      <th>1.0</th>\n",
       "    </tr>\n",
       "    <tr>\n",
       "      <th>Churn</th>\n",
       "      <th></th>\n",
       "      <th></th>\n",
       "    </tr>\n",
       "  </thead>\n",
       "  <tbody>\n",
       "    <tr>\n",
       "      <th>0</th>\n",
       "      <td>1397</td>\n",
       "      <td>46</td>\n",
       "    </tr>\n",
       "    <tr>\n",
       "      <th>1</th>\n",
       "      <td>168</td>\n",
       "      <td>56</td>\n",
       "    </tr>\n",
       "  </tbody>\n",
       "</table>\n",
       "</div>"
      ],
      "text/plain": [
       "pred    0.0  1.0\n",
       "Churn           \n",
       "0      1397   46\n",
       "1       168   56"
      ]
     },
     "execution_count": 226,
     "metadata": {},
     "output_type": "execute_result"
    }
   ],
   "source": [
    "pd.crosstab(Binded_logit.iloc[3333:5000,0],pred['pred'])"
   ]
  },
  {
   "cell_type": "code",
   "execution_count": 227,
   "metadata": {},
   "outputs": [
    {
     "data": {
      "text/plain": [
       "0.871625674865027"
      ]
     },
     "execution_count": 227,
     "metadata": {},
     "output_type": "execute_result"
    }
   ],
   "source": [
    "accuracy_score(Binded_logit.iloc[3333:5000,0].astype(float),pred['pred'])"
   ]
  },
  {
   "cell_type": "markdown",
   "metadata": {},
   "source": [
    "### Accuracy = 0.87\n",
    "### FNR: 168/224 = 0.75"
   ]
  },
  {
   "cell_type": "markdown",
   "metadata": {},
   "source": [
    "# Synthetic data and Random Forest technique"
   ]
  },
  {
   "cell_type": "code",
   "execution_count": 228,
   "metadata": {},
   "outputs": [
    {
     "name": "stdout",
     "output_type": "stream",
     "text": [
      "0.8446310737852429\n"
     ]
    }
   ],
   "source": [
    "Binded_csv = pd.read_csv(\"Synthetic_data.csv\")\n",
    "Binded_csv.columns = train.columns\n",
    "Binded_csv.loc[ Binded_csv['Churn'] == 1,'Churn']=0\n",
    "Binded_csv.loc[ Binded_csv['Churn'] == 2,'Churn']=1\n",
    "\n",
    "for i in numericColumns:\n",
    "    q75, q25 = np.percentile(Binded_csv[i], [75,25])\n",
    "    iqr = q75-q25\n",
    "    \n",
    "    min = q25-iqr*1.5\n",
    "    max = q75+iqr*1.5\n",
    "    \n",
    "    #Median as replacement value\n",
    "    replacementValue=np.median(Binded_csv[i])\n",
    "    \n",
    "    #Mean as replacement value\n",
    "    #replacementValue=np.mean(train[i])\n",
    "    \n",
    "    Binded_csv.loc[ Binded_csv[i]<min,i]=replacementValue\n",
    "    Binded_csv.loc[ Binded_csv[i]>max,i]=replacementValue\n",
    "    \n",
    "    \n",
    "for i in numericColumns:\n",
    "    Binded_csv[i] = (Binded_csv[i]-Binded_csv[i].mean())/Binded_csv[i].std()\n",
    "\n",
    "\n",
    "Binded_csv['state']= Binded_csv['state'].astype('category')\n",
    "\n",
    "Binded_csv['international plan']= Binded_csv['international plan'].astype('category')\n",
    "\n",
    "Binded_csv['voice mail plan']= Binded_csv['voice mail plan'].astype('category')\n",
    "\n",
    "Binded_csv['Churn']= Binded_csv['Churn'].astype('category')\n",
    "\n",
    "\n",
    "RF = RandomForestClassifier(n_estimators=100).fit(Binded_csv.iloc[:,0:14],pd.Categorical(Binded_csv['Churn']))\n",
    "\n",
    "\n",
    "pred = RF.predict(test.iloc[:,0:14])\n",
    "\n",
    "pd.crosstab(test.iloc[:,14], pred)\n",
    "\n",
    "\n",
    "print(accuracy_score(pd.Categorical(test.iloc[:,14]), pred))\n",
    "\n"
   ]
  },
  {
   "cell_type": "code",
   "execution_count": 229,
   "metadata": {},
   "outputs": [
    {
     "data": {
      "text/html": [
       "<div>\n",
       "<style scoped>\n",
       "    .dataframe tbody tr th:only-of-type {\n",
       "        vertical-align: middle;\n",
       "    }\n",
       "\n",
       "    .dataframe tbody tr th {\n",
       "        vertical-align: top;\n",
       "    }\n",
       "\n",
       "    .dataframe thead th {\n",
       "        text-align: right;\n",
       "    }\n",
       "</style>\n",
       "<table border=\"1\" class=\"dataframe\">\n",
       "  <thead>\n",
       "    <tr style=\"text-align: right;\">\n",
       "      <th>col_0</th>\n",
       "      <th>0</th>\n",
       "      <th>1</th>\n",
       "    </tr>\n",
       "    <tr>\n",
       "      <th>Churn</th>\n",
       "      <th></th>\n",
       "      <th></th>\n",
       "    </tr>\n",
       "  </thead>\n",
       "  <tbody>\n",
       "    <tr>\n",
       "      <th>0</th>\n",
       "      <td>1257</td>\n",
       "      <td>186</td>\n",
       "    </tr>\n",
       "    <tr>\n",
       "      <th>1</th>\n",
       "      <td>73</td>\n",
       "      <td>151</td>\n",
       "    </tr>\n",
       "  </tbody>\n",
       "</table>\n",
       "</div>"
      ],
      "text/plain": [
       "col_0     0    1\n",
       "Churn           \n",
       "0      1257  186\n",
       "1        73  151"
      ]
     },
     "execution_count": 229,
     "metadata": {},
     "output_type": "execute_result"
    }
   ],
   "source": [
    "\n",
    "pd.crosstab(test.iloc[:,14], pred)"
   ]
  },
  {
   "cell_type": "code",
   "execution_count": 230,
   "metadata": {},
   "outputs": [
    {
     "name": "stdout",
     "output_type": "stream",
     "text": [
      "0.8446310737852429\n"
     ]
    }
   ],
   "source": [
    "print(accuracy_score(pd.Categorical(test.iloc[:,14]), pred))"
   ]
  },
  {
   "cell_type": "markdown",
   "metadata": {},
   "source": [
    "## Accuracy - 84%\n",
    "## FNR - 0.34"
   ]
  }
 ],
 "metadata": {
  "kernelspec": {
   "display_name": "Python 3",
   "language": "python",
   "name": "python3"
  },
  "language_info": {
   "codemirror_mode": {
    "name": "ipython",
    "version": 3
   },
   "file_extension": ".py",
   "mimetype": "text/x-python",
   "name": "python",
   "nbconvert_exporter": "python",
   "pygments_lexer": "ipython3",
   "version": "3.6.4"
  }
 },
 "nbformat": 4,
 "nbformat_minor": 2
}
